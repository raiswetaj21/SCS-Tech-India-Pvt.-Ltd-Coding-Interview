{
 "cells": [
  {
   "cell_type": "code",
   "execution_count": 1,
   "id": "d76ba6e2",
   "metadata": {},
   "outputs": [],
   "source": [
    "import numpy as np\n",
    "import math as mt"
   ]
  },
  {
   "cell_type": "code",
   "execution_count": 2,
   "id": "0107ec77",
   "metadata": {},
   "outputs": [
    {
     "name": "stdout",
     "output_type": "stream",
     "text": [
      "Root1: 2.0 and Root2: 1.0\n"
     ]
    }
   ],
   "source": [
    "def quad_func(a, b, c):\n",
    "    determinant = b**2 - 4*a*c\n",
    "    root1 = (-b+mt.sqrt(determinant))/(2*a) # calculate root1\n",
    "    root2 = (-b-mt.sqrt(determinant))/(2*a) # calculate root2\n",
    "    return root1, root2\n",
    "a=1\n",
    "b=-3\n",
    "c=2\n",
    "root1, root2 = quad_func(a,b,c)\n",
    "print(\"Root1:\",root1,\"and Root2:\",root2)"
   ]
  },
  {
   "cell_type": "code",
   "execution_count": 3,
   "id": "7d2bf0ea",
   "metadata": {},
   "outputs": [
    {
     "name": "stdout",
     "output_type": "stream",
     "text": [
      "AbHiJEET\n"
     ]
    }
   ],
   "source": [
    "name = \"abhijeet\"\n",
    "uppercasename = \"\"\n",
    "for i in name:\n",
    "    if i in ('b', 'i'):\n",
    "        uppercasename += i.lower()  # Keep 'b' and 'i' in lowercase\n",
    "    else:\n",
    "        uppercasename += i.upper()  # Convert other characters to uppercase\n",
    "print(uppercasename)"
   ]
  },
  {
   "cell_type": "code",
   "execution_count": null,
   "id": "ce7c9980",
   "metadata": {},
   "outputs": [],
   "source": []
  }
 ],
 "metadata": {
  "kernelspec": {
   "display_name": "Python 3",
   "language": "python",
   "name": "python3"
  },
  "language_info": {
   "codemirror_mode": {
    "name": "ipython",
    "version": 3
   },
   "file_extension": ".py",
   "mimetype": "text/x-python",
   "name": "python",
   "nbconvert_exporter": "python",
   "pygments_lexer": "ipython3",
   "version": "3.8.8"
  }
 },
 "nbformat": 4,
 "nbformat_minor": 5
}
